{
 "cells": [
  {
   "cell_type": "markdown",
   "id": "d5d9c078-d6e1-47c5-9049-9ae9db4c060a",
   "metadata": {},
   "source": [
    "### Simple Energy Balance on Venus\n",
    "\n",
    "Here we'll create a simple energy balance model for Venus to derive a simple surface temperature:\n",
    "\n",
    "$T_s = \\left(\\frac{(1-A)S}{4 \\epsilon \\sigma}\\right)^{1/4}$\n",
    "\n",
    "where we assume $\\epsilon \\approx 0.01$, $A \\approx 0.75$, and $S = 2614$ W/m$^2$."
   ]
  },
  {
   "cell_type": "code",
   "execution_count": 10,
   "id": "0580bff9-29ff-4387-9c69-3794ed608250",
   "metadata": {},
   "outputs": [
    {
     "name": "stdout",
     "output_type": "stream",
     "text": [
      "Surface Temperature (Ts): 732.64 K\n"
     ]
    }
   ],
   "source": [
    "from astropy.constants import sigma_sb  # Stefan-Boltzmann constant\n",
    "from astropy import units as u\n",
    "\n",
    "# Constants\n",
    "S = 2614 * (u.W / u.m**2)  # Solar constant at Venus\n",
    "A = 0.75  # Albedo of Venus\n",
    "epsilon = 0.01\n",
    "# Effective emissivity\n",
    "sigma = sigma_sb  # Stefan-Boltzmann constant\n",
    "\n",
    "# Energy balance equation to solve for Ts (surface temperature)\n",
    "Ts = (((1 - A) * S / (4 * epsilon * sigma)) ** 0.25).to(u.K)\n",
    "print(f\"Surface Temperature (Ts): {Ts:.2f}\")\n"
   ]
  },
  {
   "cell_type": "markdown",
   "id": "f65bed9f-b2e1-4d2a-9fbf-619bb3c95d4b",
   "metadata": {},
   "source": [
    "### Atmospheric Temperature Gradient Equation\n",
    "\n",
    "The atmospheric temperature gradient can be expressed as:\n",
    "\n",
    "$\n",
    "\\frac{dT}{dp} = \\frac{1}{c_p(T)} \\frac{RT}{p \\mu}\n",
    "$\n",
    "\n",
    "#### Variables:\n",
    "- **T**: Temperature (K) at a given pressure level in the atmosphere.\n",
    "- **p**: Pressure (Pa), which decreases with altitude in the atmosphere.\n",
    "- **$c_p(T)$**: Specific heat capacity at constant pressure, dependent on temperature and atmospheric composition.\n",
    "- **R**: Universal gas constant.\n",
    "- **$\\mu$**: Mean molecular weight of the atmosphere, determined by the atmospheric composition.\n",
    "\n",
    "This equation describes how temperature changes with pressure in an atmosphere, accounting for the energy balance between thermal energy and atmospheric composition. The pressure decreases with altitude, causing a corresponding change in temperature as described by this gradient.\n"
   ]
  },
  {
   "cell_type": "code",
   "execution_count": null,
   "id": "f8d9d7d7-7df3-4fe4-961e-de3b5c7e8cd6",
   "metadata": {},
   "outputs": [],
   "source": []
  }
 ],
 "metadata": {
  "kernelspec": {
   "display_name": "Python 3 (ipykernel)",
   "language": "python",
   "name": "python3"
  },
  "language_info": {
   "codemirror_mode": {
    "name": "ipython",
    "version": 3
   },
   "file_extension": ".py",
   "mimetype": "text/x-python",
   "name": "python",
   "nbconvert_exporter": "python",
   "pygments_lexer": "ipython3",
   "version": "3.11.9"
  }
 },
 "nbformat": 4,
 "nbformat_minor": 5
}
