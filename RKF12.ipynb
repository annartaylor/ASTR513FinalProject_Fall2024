{
 "cells": [
  {
   "cell_type": "code",
   "execution_count": null,
   "id": "39452362-3ff6-4073-9c27-e08cdfd89871",
   "metadata": {},
   "outputs": [],
   "source": []
  }
 ],
 "metadata": {
  "kernelspec": {
   "display_name": "",
   "name": ""
  },
  "language_info": {
   "name": ""
  }
 },
 "nbformat": 4,
 "nbformat_minor": 5
}
